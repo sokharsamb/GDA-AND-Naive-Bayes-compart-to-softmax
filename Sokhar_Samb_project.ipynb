{
 "cells": [
  {
   "cell_type": "code",
   "execution_count": 1,
   "metadata": {},
   "outputs": [],
   "source": [
    "import pdb\n",
    "import random\n",
    "import numpy as np\n",
    "import pandas as pd\n",
    "import seaborn as sns\n",
    "from inspect import signature\n",
    "from sklearn import metrics \n",
    "import matplotlib.pyplot as plt\n",
    "from sklearn.metrics import auc\n",
    "from sklearn.metrics import f1_score\n",
    "from sklearn.metrics import roc_curve\n",
    "from sklearn.metrics import recall_score\n",
    "from sklearn.metrics import accuracy_score\n",
    "from sklearn.metrics import precision_score\n",
    "from sklearn.preprocessing import OneHotEncoder \n",
    "from sklearn.metrics import precision_recall_curve\n",
    "from sklearn.metrics import average_precision_score\n",
    "from sklearn.feature_extraction.text import TfidfVectorizer"
   ]
  },
  {
   "cell_type": "markdown",
   "metadata": {},
   "source": [
    "# Data preprossessing"
   ]
  },
  {
   "cell_type": "code",
   "execution_count": 2,
   "metadata": {
    "scrolled": true
   },
   "outputs": [
    {
     "data": {
      "text/html": [
       "<div>\n",
       "<style scoped>\n",
       "    .dataframe tbody tr th:only-of-type {\n",
       "        vertical-align: middle;\n",
       "    }\n",
       "\n",
       "    .dataframe tbody tr th {\n",
       "        vertical-align: top;\n",
       "    }\n",
       "\n",
       "    .dataframe thead th {\n",
       "        text-align: right;\n",
       "    }\n",
       "</style>\n",
       "<table border=\"1\" class=\"dataframe\">\n",
       "  <thead>\n",
       "    <tr style=\"text-align: right;\">\n",
       "      <th></th>\n",
       "      <th>Unnamed: 0</th>\n",
       "      <th>rating</th>\n",
       "    </tr>\n",
       "  </thead>\n",
       "  <tbody>\n",
       "    <tr>\n",
       "      <th>count</th>\n",
       "      <td>4143.000000</td>\n",
       "      <td>4143.000000</td>\n",
       "    </tr>\n",
       "    <tr>\n",
       "      <th>mean</th>\n",
       "      <td>2081.808834</td>\n",
       "      <td>6.946416</td>\n",
       "    </tr>\n",
       "    <tr>\n",
       "      <th>std</th>\n",
       "      <td>1202.018138</td>\n",
       "      <td>2.948868</td>\n",
       "    </tr>\n",
       "    <tr>\n",
       "      <th>min</th>\n",
       "      <td>0.000000</td>\n",
       "      <td>1.000000</td>\n",
       "    </tr>\n",
       "    <tr>\n",
       "      <th>25%</th>\n",
       "      <td>1041.500000</td>\n",
       "      <td>5.000000</td>\n",
       "    </tr>\n",
       "    <tr>\n",
       "      <th>50%</th>\n",
       "      <td>2083.000000</td>\n",
       "      <td>8.000000</td>\n",
       "    </tr>\n",
       "    <tr>\n",
       "      <th>75%</th>\n",
       "      <td>3123.500000</td>\n",
       "      <td>9.000000</td>\n",
       "    </tr>\n",
       "    <tr>\n",
       "      <th>max</th>\n",
       "      <td>4161.000000</td>\n",
       "      <td>10.000000</td>\n",
       "    </tr>\n",
       "  </tbody>\n",
       "</table>\n",
       "</div>"
      ],
      "text/plain": [
       "        Unnamed: 0       rating\n",
       "count  4143.000000  4143.000000\n",
       "mean   2081.808834     6.946416\n",
       "std    1202.018138     2.948868\n",
       "min       0.000000     1.000000\n",
       "25%    1041.500000     5.000000\n",
       "50%    2083.000000     8.000000\n",
       "75%    3123.500000     9.000000\n",
       "max    4161.000000    10.000000"
      ]
     },
     "execution_count": 2,
     "metadata": {},
     "output_type": "execute_result"
    }
   ],
   "source": [
    "trainset=pd.read_table('drugLib_raw/drugLibTrain_raw.tsv',sep='\\t')\n",
    "testset=pd.read_table('drugLib_raw/drugLibTest_raw.tsv',sep='\\t')    \n",
    "dataset=pd.concat([trainset,testset], axis=0)\n",
    "classes=np.unique(dataset['rating'])\n",
    "dataset.describe()"
   ]
  },
  {
   "cell_type": "code",
   "execution_count": 3,
   "metadata": {},
   "outputs": [
    {
     "data": {
      "text/plain": [
       "(array([420., 136., 195., 151., 226., 215., 471., 748., 613., 968.]),\n",
       " array([ 1. ,  1.9,  2.8,  3.7,  4.6,  5.5,  6.4,  7.3,  8.2,  9.1, 10. ]),\n",
       " <a list of 10 Patch objects>)"
      ]
     },
     "execution_count": 3,
     "metadata": {},
     "output_type": "execute_result"
    },
    {
     "data": {
      "image/png": "[encoded data removed]",
      "text/plain": [
       "<Figure size 432x288 with 1 Axes>"
      ]
     },
     "metadata": {
      "needs_background": "light"
     },
     "output_type": "display_data"
    }
   ],
   "source": [
    "plt.hist(dataset['rating'])"
   ]
  },
  {
   "cell_type": "code",
   "execution_count": 4,
   "metadata": {},
   "outputs": [
    {
     "name": "stdout",
     "output_type": "stream",
     "text": [
      "Existing classes in our target variable===== [ 1  2  3  4  5  6  7  8  9 10]\n",
      "Number of classes of our target variable===== 10\n"
     ]
    }
   ],
   "source": [
    "print('Existing classes in our target variable=====', np.unique(dataset['rating']))\n",
    "print('Number of classes of our target variable=====',len(np.unique(dataset['rating'])))"
   ]
  },
  {
   "cell_type": "code",
   "execution_count": 5,
   "metadata": {},
   "outputs": [],
   "source": [
    "tf_df = dataset.isnull()\n"
   ]
  },
  {
   "cell_type": "code",
   "execution_count": 6,
   "metadata": {},
   "outputs": [
    {
     "data": {
      "text/plain": [
       "Index(['Unnamed: 0', 'urlDrugName', 'rating', 'effectiveness', 'sideEffects',\n",
       "       'condition', 'benefitsReview', 'sideEffectsReview', 'commentsReview'],\n",
       "      dtype='object')"
      ]
     },
     "execution_count": 6,
     "metadata": {},
     "output_type": "execute_result"
    }
   ],
   "source": [
    "dataset.columns"
   ]
  },
  {
   "cell_type": "code",
   "execution_count": 7,
   "metadata": {
    "scrolled": false
   },
   "outputs": [
    {
     "data": {
      "text/plain": [
       "Text(0, 0.5, 'count')"
      ]
     },
     "execution_count": 7,
     "metadata": {},
     "output_type": "execute_result"
    },
    {
     "data": {
      "image/png": "[encoded data removed]",
      "text/plain": [
       "<Figure size 432x288 with 1 Axes>"
      ]
     },
     "metadata": {
      "needs_background": "light"
     },
     "output_type": "display_data"
    }
   ],
   "source": [
    "dataset.isnull().sum().plot(kind='bar')\n",
    "plt.title('Null Values')\n",
    "plt.xlabel('variabes')\n",
    "plt.ylabel('count')"
   ]
  },
  {
   "cell_type": "markdown",
   "metadata": {},
   "source": [
    "When we look at the number of null values, we realise that \n",
    "they are few compart to the size of the data. From here decided to delete them."
   ]
  },
  {
   "cell_type": "code",
   "execution_count": 8,
   "metadata": {},
   "outputs": [
    {
     "data": {
      "text/plain": [
       "(4132, 9)"
      ]
     },
     "execution_count": 8,
     "metadata": {},
     "output_type": "execute_result"
    }
   ],
   "source": [
    "dataset = dataset.dropna()\n",
    "dataset.shape"
   ]
  },
  {
   "cell_type": "code",
   "execution_count": 9,
   "metadata": {},
   "outputs": [],
   "source": [
    "dataset['rating'] = dataset['rating'].apply(lambda x : x-1)\n",
    "target=dataset['rating'].values\n"
   ]
  },
  {
   "cell_type": "markdown",
   "metadata": {},
   "source": []
  },
  {
   "cell_type": "code",
   "execution_count": 10,
   "metadata": {},
   "outputs": [],
   "source": [
    "from nltk.corpus import stopwords\n",
    "tfidf = TfidfVectorizer(sublinear_tf=True, min_df=20,max_features=20,\n",
    "                        ngram_range=(1, 2), \n",
    "                        stop_words='english')\n",
    "\n",
    "features1 = tfidf.fit_transform(dataset['sideEffects']).toarray()\n",
    "features2 = tfidf.fit_transform(dataset['commentsReview']).toarray()\n",
    "features3 = tfidf.fit_transform(dataset['benefitsReview']).toarray()\n",
    "features4 = tfidf.fit_transform(dataset['effectiveness']).toarray()\n",
    "features5= tfidf.fit_transform(dataset['sideEffectsReview']).toarray()\n",
    "features6= tfidf.fit_transform(dataset['condition']).toarray()\n",
    "data_text=np.concatenate([features1,features3, features2,features4 ,features5,features6],axis=1)"
   ]
  },
  {
   "cell_type": "markdown",
   "metadata": {},
   "source": [
    "In the flowing lines, we split the initial data set in fours different data sets(10%,30%,60% and 100%)."
   ]
  },
  {
   "cell_type": "code",
   "execution_count": 11,
   "metadata": {},
   "outputs": [],
   "source": [
    "\n",
    "classes=np.unique(target)\n",
    "size_10=int(0.1 * len(dataset))\n",
    "dataset1=data_text[:size_10,:]\n",
    "target1=target[:size_10]\n",
    "\n",
    "size_30=int(.3 * len(dataset))\n",
    "dataset2=data_text[:size_30,:]\n",
    "target2=target[:size_30]\n",
    "\n",
    "\n",
    "size_60=int(.6 * len(dataset))\n",
    "dataset3=data_text[:size_60,:]\n",
    "target3=target[:size_60]\n",
    "\n",
    "dataset4=data_text\n",
    "target4=target"
   ]
  },
  {
   "cell_type": "markdown",
   "metadata": {},
   "source": [
    "## Softmax logistic regression"
   ]
  },
  {
   "cell_type": "code",
   "execution_count": 12,
   "metadata": {},
   "outputs": [],
   "source": [
    "class logistiSoft():\n",
    "    def __init__(self, feature, target,classes,lr=0.1, epoch=1000):\n",
    "        self.feature=feature\n",
    "        self.cl=len(classes)\n",
    "        self.target=np.eye(len(classes))[target.astype(int).flatten()]\n",
    "        #print(target)\n",
    "        self.w = np.zeros([self.feature.shape[1],self.cl])\n",
    "        self.epoch=epoch\n",
    "        self.lr=lr\n",
    "        self.m = feature.shape[0]\n",
    "        \n",
    "    def softmax(self,z):\n",
    "        z -= np.max(z)\n",
    "        z= np.add(z,1)\n",
    "        sm = (np.exp(z).T /(np.nansum(np.exp(z),axis=1))).T\n",
    "        return sm\n",
    "    \n",
    "    def getProbsAndPreds(self, x):\n",
    "        probs = self.softmax(np.dot(x,self.w))\n",
    "        preds = np.argmax(probs,axis=1)\n",
    "        return probs,preds\n",
    "    def gradient(self,x,y):\n",
    "        proba,pred=self.getProbsAndPreds(x)\n",
    "        #print(proba.shape)\n",
    "        grad=(-1/self.m)*np.dot(x.T,(proba-y))\n",
    "        return grad\n",
    "    def cost_function(x, y):\n",
    "        p = self.softmax(np.dot(x,self.w))\n",
    "        return -y *np.log(p)\n",
    "\n",
    "    def fitfunction(self):\n",
    "        costs=[]\n",
    "        for i in range(0,self.epoch):\n",
    "            grad = self.gradient(self.feature,self.target)\n",
    "            self.w +=(self.lr * grad)  \n",
    "        costs.append(self.softmax(np.dot(self.feature,self.w)))\n",
    "\n",
    "        return  costs\n",
    "    def prediction(self,x_tes,y_tes):\n",
    "        prob,prede = self.getProbsAndPreds(x_tes)\n",
    "        accuracy = accuracy_score(np.array(prede) .reshape(-1,1),y_tes)\n",
    "        print('accuracy', '======',accuracy)\n",
    "        return prede,accuracy\n"
   ]
  },
  {
   "cell_type": "code",
   "execution_count": null,
   "metadata": {},
   "outputs": [],
   "source": []
  },
  {
   "cell_type": "markdown",
   "metadata": {},
   "source": [
    "## Gaussian discriminant analysis"
   ]
  },
  {
   "cell_type": "code",
   "execution_count": 13,
   "metadata": {},
   "outputs": [],
   "source": [
    "class MultiGDA():\n",
    "    def mu(self,x,y):\n",
    "        classes=list(np.unique(y))\n",
    "        m=[]\n",
    "        for c in classes:\n",
    "            a=list(np.mean([x[i] for i in range(len(y)) if y[i]==c], axis=0))\n",
    "            m.append(a)\n",
    "            \n",
    "        return m\n",
    "    def phy(self,y,classes):\n",
    "        pi=[]\n",
    "        for i in classes:\n",
    "            pi.append(1/(len(y))*np.sum(y==i))\n",
    "        return  pi\n",
    "    def sigma(self,x,y, classes):\n",
    "        n=len(y)\n",
    "        sigma=np.zeros([len(x[0]),len(x[0])])\n",
    "        for i in range(n):\n",
    "            cov=[]\n",
    "            xi=x[i:]\n",
    "            yi=y[i]\n",
    "            for j in range(len(classes)):\n",
    "                cov.append(np.dot((xi-self.mu(x,y)[j]).T,(xi-self.mu(x,y)[j])))\n",
    "            for c in range(len(classes)):\n",
    "                if yi==classes[c]:\n",
    "                    covv=cov[c]\n",
    "                    sigma=sigma+covv\n",
    "            sigma=sigma/n\n",
    "            return sigma\n",
    "    def multinormal(self,x,mop,sigmacov,pi,classes):\n",
    "        n=len(x)\n",
    "        predicts=[]\n",
    "        for i in range(len(classes)):\n",
    "            dif1=(x-mop[i]).reshape(1,-1)\n",
    "            pred1=np.exp((-1/2)*np.dot(np.dot(dif1,np.linalg.pinv(sigmacov)),dif1.T))*pi[i]\n",
    "            pred2=pred1[0][0]\n",
    "            predicts.append(pred2)\n",
    "        return predicts\n",
    "    def fit(self,x,y,classes):\n",
    "        mu=self.mu(x,y)\n",
    "        pi=self.phy(y,classes)\n",
    "        sigmacov=self.sigma(x,y, classes)\n",
    "        return classes, mu,pi,sigmacov\n",
    "    def predictions(self,x,y,classes, m, pi,sig_op):\n",
    "        pred=[]\n",
    "        for i in range(len(x)):\n",
    "            k=x[i].reshape(1,-1)\n",
    "            preds=self.multinormal(k,m,sigmacov,pi,classes)\n",
    "            pred.append(np.argmax(preds))\n",
    "        acc=np.sum(pred==y)/len(y)\n",
    "        print('Accuracy=====',acc)\n",
    "\n",
    "        return pred,acc\n"
   ]
  },
  {
   "cell_type": "markdown",
   "metadata": {},
   "source": [
    "## Naive bayes"
   ]
  },
  {
   "cell_type": "code",
   "execution_count": 14,
   "metadata": {},
   "outputs": [],
   "source": [
    "class NaiveBayes():\n",
    "    def __init__(self,x,y,classes):\n",
    "        self.x=x\n",
    "        self.y=y\n",
    "        self.classes=classes\n",
    "        self.all_means = self.meanns()\n",
    "        self.all_sig = self.sigmas(self.all_means)\n",
    "        self.all_priors = self.priors()\n",
    "    def meanns(self):\n",
    "        lists = []\n",
    "        mu=[]\n",
    "        for c in self.classes:\n",
    "            for i in range(len(self.y)):\n",
    "                if self.y[i]==c:\n",
    "                    lists.append(self.x[i])\n",
    "            mu.append(np.sum(np.array(lists))/len(self.y))\n",
    "        return mu\n",
    "    def sigmas(self,mu):\n",
    "            sigma=np.zeros((self.x.shape[1],self.x.shape[1]))\n",
    "            lists=[]\n",
    "            for c in self.classes:\n",
    "                for i in range(len(self.y)):\n",
    "                    if self.y[i]==c:\n",
    "                        lists.append(np.array(self.x[i]))\n",
    "                dif =np.array(lists)- np.array(mu[c])\n",
    "                sigma += np.dot( dif.T,dif)\n",
    "            return sigma/len(self.y)\n",
    "    def priors(self):\n",
    "        prior={}\n",
    "        for clas in classes:\n",
    "            prior[clas]=len(self.x[self.y==clas])/len(self.y)\n",
    "        return prior\n",
    "    def fit_distribution(self,x):\n",
    "        lists=[]\n",
    "        distrib=[]\n",
    "        for c in self.classes:  \n",
    "            deno=1/(((2*np.pi)**((len(self.classes))/2))*(((np.linalg.det(self.all_sig))+0.1)**1/2))\n",
    "            dif=x - np.array(self.all_means[c])\n",
    "            distrib.append(self.all_priors[c]*deno*np.exp(-(1/2)*np.dot(np.dot(dif,np.linalg.pinv(self.all_sig)),dif.T)))\n",
    "        return np.array(distrib)\n",
    "    \n",
    "    def predic(self,x_test,y_test):    \n",
    "        prob=[]\n",
    "        pred=[]\n",
    "        for i in x_test:\n",
    "            prob=np.argmax(self.fit_distribution(i))\n",
    "            pred.append(prob)\n",
    "        acc=np.sum(pred==y_test)/len(y_test)\n",
    "        print('Accuracy=====',acc)\n",
    "        return pred,acc\n",
    "            "
   ]
  },
  {
   "cell_type": "code",
   "execution_count": 15,
   "metadata": {},
   "outputs": [],
   "source": [
    "def precision(ytest,predictGDA,predictlogist,predictnaiv):\n",
    "    prec_GDA=precision_score(predictGDA,ytest,average='weighted')\n",
    "    prec_LOG=precision_score(predictlogist,ytest,average='weighted')\n",
    "    prec_NV=precision_score(predictnaiv,ytest,average='weighted')\n",
    "    compart=pd.DataFrame([['GDA',prec_GDA],['LOG',prec_LOG],['Naiv',prec_NV]])\n",
    "    compart.columns = ['Model','precision']\n",
    "\n",
    "    return compart\n",
    "    "
   ]
  },
  {
   "cell_type": "markdown",
   "metadata": {},
   "source": [
    "The objective of this project is to compare GDA and Naive bayes with logistique reression."
   ]
  },
  {
   "cell_type": "code",
   "execution_count": null,
   "metadata": {},
   "outputs": [],
   "source": []
  },
  {
   "cell_type": "markdown",
   "metadata": {},
   "source": [
    "# comparaison with 10% of the data set"
   ]
  },
  {
   "cell_type": "code",
   "execution_count": 16,
   "metadata": {},
   "outputs": [],
   "source": [
    "size=int(.8 * len(dataset1))\n",
    "X_train1= dataset1[:size, :]\n",
    "Y_train1= target1[:size]\n",
    "X_test1=dataset1[size:,:]\n",
    "Y_test1=target1[size:]"
   ]
  },
  {
   "cell_type": "markdown",
   "metadata": {},
   "source": [
    "#### logistic"
   ]
  },
  {
   "cell_type": "code",
   "execution_count": 17,
   "metadata": {},
   "outputs": [
    {
     "name": "stdout",
     "output_type": "stream",
     "text": [
      "accuracy ====== 0.39759036144578314\n"
     ]
    }
   ],
   "source": [
    "p=logistiSoft(X_train1,Y_train1,classes)\n",
    "p.fitfunction()\n",
    "pedictLogist1,accL1=p.prediction(X_test1,Y_test1)"
   ]
  },
  {
   "cell_type": "markdown",
   "metadata": {},
   "source": [
    "#### GDA"
   ]
  },
  {
   "cell_type": "code",
   "execution_count": 18,
   "metadata": {},
   "outputs": [
    {
     "name": "stdout",
     "output_type": "stream",
     "text": [
      "Accuracy===== 0.3253012048192771\n"
     ]
    }
   ],
   "source": [
    "p=MultiGDA()\n",
    "classes=list(np.unique(Y_train1))\n",
    "c,mu,pi,sigmacov=p.fit(X_train1,Y_train1,classes)\n",
    "sigmacovnew=sigmacov+(0.3*np.identity(sigmacov.shape[0]))\n",
    "predictionGDA1,accG1=p.predictions(X_test1,Y_test1,classes, mu,pi, sigmacovnew)\n",
    "#np.sum(predictionGDA1==Y_test1)/len(Y_test1)\n"
   ]
  },
  {
   "cell_type": "markdown",
   "metadata": {},
   "source": [
    "### Naive bayes"
   ]
  },
  {
   "cell_type": "code",
   "execution_count": 19,
   "metadata": {},
   "outputs": [
    {
     "name": "stdout",
     "output_type": "stream",
     "text": [
      "Accuracy===== 0.27710843373493976\n"
     ]
    }
   ],
   "source": [
    "p=NaiveBayes(X_train1,Y_train1,classes)\n",
    "preditnv1,accn1=p.predic(X_test1,Y_test1)\n",
    "\n"
   ]
  },
  {
   "cell_type": "markdown",
   "metadata": {},
   "source": [
    "In the flowing line, we compart the average precision of the tree models"
   ]
  },
  {
   "cell_type": "code",
   "execution_count": 20,
   "metadata": {},
   "outputs": [
    {
     "data": {
      "text/html": [
       "<div>\n",
       "<style scoped>\n",
       "    .dataframe tbody tr th:only-of-type {\n",
       "        vertical-align: middle;\n",
       "    }\n",
       "\n",
       "    .dataframe tbody tr th {\n",
       "        vertical-align: top;\n",
       "    }\n",
       "\n",
       "    .dataframe thead th {\n",
       "        text-align: right;\n",
       "    }\n",
       "</style>\n",
       "<table border=\"1\" class=\"dataframe\">\n",
       "  <thead>\n",
       "    <tr style=\"text-align: right;\">\n",
       "      <th></th>\n",
       "      <th>Model</th>\n",
       "      <th>precision</th>\n",
       "      <th>accuracy</th>\n",
       "    </tr>\n",
       "  </thead>\n",
       "  <tbody>\n",
       "    <tr>\n",
       "      <th>0</th>\n",
       "      <td>GDA</td>\n",
       "      <td>0.395748</td>\n",
       "      <td>0.325301</td>\n",
       "    </tr>\n",
       "    <tr>\n",
       "      <th>1</th>\n",
       "      <td>LOG</td>\n",
       "      <td>0.550445</td>\n",
       "      <td>0.397590</td>\n",
       "    </tr>\n",
       "    <tr>\n",
       "      <th>2</th>\n",
       "      <td>Naiv</td>\n",
       "      <td>0.741824</td>\n",
       "      <td>0.277108</td>\n",
       "    </tr>\n",
       "  </tbody>\n",
       "</table>\n",
       "</div>"
      ],
      "text/plain": [
       "  Model  precision  accuracy\n",
       "0   GDA   0.395748  0.325301\n",
       "1   LOG   0.550445  0.397590\n",
       "2  Naiv   0.741824  0.277108"
      ]
     },
     "execution_count": 20,
     "metadata": {},
     "output_type": "execute_result"
    }
   ],
   "source": [
    "preci_10=precision(Y_test1,predictionGDA1,pedictLogist1,preditnv1)\n",
    "preci_10['accuracy']=[accG1,accL1,accn1]\n",
    "preci_10"
   ]
  },
  {
   "cell_type": "markdown",
   "metadata": {},
   "source": [
    "Using 10% of the data, we observe that the naive bayes has the highest precision (0.74) flowed by logistice regression(0.55). The logistic regression give us  the highest accuracy(39%) flowed by GDA(32%)."
   ]
  },
  {
   "cell_type": "markdown",
   "metadata": {},
   "source": [
    "## comparaison with 30% of the data set"
   ]
  },
  {
   "cell_type": "code",
   "execution_count": 21,
   "metadata": {},
   "outputs": [],
   "source": [
    "size2=int(.8 * len(dataset2))\n",
    "X_train2= dataset2[:size2, :]\n",
    "Y_train2= target2[:size2]\n",
    "X_test2=dataset2[size2:,:]\n",
    "Y_test2=target2[size2:]"
   ]
  },
  {
   "cell_type": "code",
   "execution_count": 22,
   "metadata": {},
   "outputs": [
    {
     "name": "stdout",
     "output_type": "stream",
     "text": [
      "(1239, 99) (1239,)\n"
     ]
    }
   ],
   "source": [
    "print(dataset2.shape,target2.shape)"
   ]
  },
  {
   "cell_type": "markdown",
   "metadata": {},
   "source": [
    "### Logistic"
   ]
  },
  {
   "cell_type": "code",
   "execution_count": 1368,
   "metadata": {},
   "outputs": [
    {
     "name": "stdout",
     "output_type": "stream",
     "text": [
      "accuracy ====== 0.4435483870967742\n"
     ]
    }
   ],
   "source": [
    "p=logistiSoft(X_train2,Y_train2,classes)\n",
    "p.fitfunction()\n",
    "predictLogist2,accL2=p.prediction(X_test2,Y_test2)"
   ]
  },
  {
   "cell_type": "markdown",
   "metadata": {},
   "source": [
    "### GDA"
   ]
  },
  {
   "cell_type": "code",
   "execution_count": 1369,
   "metadata": {},
   "outputs": [
    {
     "name": "stdout",
     "output_type": "stream",
     "text": [
      "Accuracy===== 0.3951612903225806\n"
     ]
    }
   ],
   "source": [
    "p=MultiGDA()\n",
    "c,mu,pi,sigmacov=p.fit(X_train2,Y_train2,classes)\n",
    "sigmacovnew=sigmacov+(0.3*np.identity(sigmacov.shape[0]))\n",
    "predictionGDA2,accG2=p.predictions(X_test2,Y_test2,classes, mu,pi, sigmacovnew)"
   ]
  },
  {
   "cell_type": "code",
   "execution_count": 1370,
   "metadata": {},
   "outputs": [
    {
     "name": "stdout",
     "output_type": "stream",
     "text": [
      "Accuracy===== 0.25\n"
     ]
    }
   ],
   "source": [
    "p=NaiveBayes(X_train2,Y_train2,classes)\n",
    "preditnv2,accn2=p.predic(X_test2,Y_test2)\n"
   ]
  },
  {
   "cell_type": "code",
   "execution_count": 1371,
   "metadata": {},
   "outputs": [
    {
     "data": {
      "text/html": [
       "<div>\n",
       "<style scoped>\n",
       "    .dataframe tbody tr th:only-of-type {\n",
       "        vertical-align: middle;\n",
       "    }\n",
       "\n",
       "    .dataframe tbody tr th {\n",
       "        vertical-align: top;\n",
       "    }\n",
       "\n",
       "    .dataframe thead th {\n",
       "        text-align: right;\n",
       "    }\n",
       "</style>\n",
       "<table border=\"1\" class=\"dataframe\">\n",
       "  <thead>\n",
       "    <tr style=\"text-align: right;\">\n",
       "      <th></th>\n",
       "      <th>Model</th>\n",
       "      <th>precision</th>\n",
       "      <th>accuracy</th>\n",
       "    </tr>\n",
       "  </thead>\n",
       "  <tbody>\n",
       "    <tr>\n",
       "      <th>0</th>\n",
       "      <td>GDA</td>\n",
       "      <td>0.487173</td>\n",
       "      <td>0.395161</td>\n",
       "    </tr>\n",
       "    <tr>\n",
       "      <th>1</th>\n",
       "      <td>LOG</td>\n",
       "      <td>0.666810</td>\n",
       "      <td>0.443548</td>\n",
       "    </tr>\n",
       "    <tr>\n",
       "      <th>2</th>\n",
       "      <td>Naiv</td>\n",
       "      <td>0.727706</td>\n",
       "      <td>0.250000</td>\n",
       "    </tr>\n",
       "  </tbody>\n",
       "</table>\n",
       "</div>"
      ],
      "text/plain": [
       "  Model  precision  accuracy\n",
       "0   GDA   0.487173  0.395161\n",
       "1   LOG   0.666810  0.443548\n",
       "2  Naiv   0.727706  0.250000"
      ]
     },
     "execution_count": 1371,
     "metadata": {},
     "output_type": "execute_result"
    }
   ],
   "source": [
    "preci_30=precision(Y_test2,predictionGDA2,predictLogist2,preditnv2)\n",
    "preci_30['accuracy']=[accG2,accL2,accn2]\n",
    "preci_30"
   ]
  },
  {
   "cell_type": "markdown",
   "metadata": {},
   "source": [
    "Using 30% of the data, we observe that the Naive bayes has the best precision(0.72) flowed by the logistic regression(0.66) which has also the best accuracy(44.3%)."
   ]
  },
  {
   "cell_type": "markdown",
   "metadata": {},
   "source": [
    "# comparaison with 60% of the data set"
   ]
  },
  {
   "cell_type": "code",
   "execution_count": 1372,
   "metadata": {},
   "outputs": [],
   "source": [
    "size2=int(.8 * len(dataset3))\n",
    "X_train3= dataset3[:size2, :]\n",
    "Y_train3= target3[:size2]\n",
    "X_test3=dataset3[size2:,:]\n",
    "Y_test3=target3[size2:]"
   ]
  },
  {
   "cell_type": "markdown",
   "metadata": {},
   "source": [
    "### Logistic"
   ]
  },
  {
   "cell_type": "code",
   "execution_count": 1373,
   "metadata": {},
   "outputs": [
    {
     "name": "stdout",
     "output_type": "stream",
     "text": [
      "accuracy ====== 0.47580645161290325\n"
     ]
    }
   ],
   "source": [
    "p=logistiSoft(X_train3,Y_train3,classes)\n",
    "p.fitfunction()\n",
    "predictLogist3,accL3=p.prediction(X_test3,Y_test3)"
   ]
  },
  {
   "cell_type": "markdown",
   "metadata": {},
   "source": [
    "### GDA"
   ]
  },
  {
   "cell_type": "code",
   "execution_count": 1374,
   "metadata": {},
   "outputs": [
    {
     "name": "stdout",
     "output_type": "stream",
     "text": [
      "Accuracy===== 0.4153225806451613\n"
     ]
    }
   ],
   "source": [
    "p=MultiGDA()\n",
    "classes=list(np.unique(Y_train3))\n",
    "c,mu,pi,sigmacov=p.fit(X_train3,Y_train3,classes)\n",
    "sigmacovnew=sigmacov+(0.3*np.identity(sigmacov.shape[0]))\n",
    "predictionGDA3,accG3=p.predictions(X_test3,Y_test3,classes, mu,pi, sigmacovnew)\n"
   ]
  },
  {
   "cell_type": "code",
   "execution_count": 1375,
   "metadata": {},
   "outputs": [
    {
     "name": "stdout",
     "output_type": "stream",
     "text": [
      "Accuracy===== 0.22983870967741934\n"
     ]
    }
   ],
   "source": [
    "p=NaiveBayes(X_train3,Y_train3,classes)\n",
    "preditnv3,accn3=p.predic(X_test3,Y_test3)\n"
   ]
  },
  {
   "cell_type": "code",
   "execution_count": 1376,
   "metadata": {},
   "outputs": [
    {
     "data": {
      "text/html": [
       "<div>\n",
       "<style scoped>\n",
       "    .dataframe tbody tr th:only-of-type {\n",
       "        vertical-align: middle;\n",
       "    }\n",
       "\n",
       "    .dataframe tbody tr th {\n",
       "        vertical-align: top;\n",
       "    }\n",
       "\n",
       "    .dataframe thead th {\n",
       "        text-align: right;\n",
       "    }\n",
       "</style>\n",
       "<table border=\"1\" class=\"dataframe\">\n",
       "  <thead>\n",
       "    <tr style=\"text-align: right;\">\n",
       "      <th></th>\n",
       "      <th>Model</th>\n",
       "      <th>precision</th>\n",
       "      <th>accuracy</th>\n",
       "    </tr>\n",
       "  </thead>\n",
       "  <tbody>\n",
       "    <tr>\n",
       "      <th>0</th>\n",
       "      <td>GDA</td>\n",
       "      <td>0.518232</td>\n",
       "      <td>0.415323</td>\n",
       "    </tr>\n",
       "    <tr>\n",
       "      <th>1</th>\n",
       "      <td>LOG</td>\n",
       "      <td>0.696049</td>\n",
       "      <td>0.475806</td>\n",
       "    </tr>\n",
       "    <tr>\n",
       "      <th>2</th>\n",
       "      <td>Naiv</td>\n",
       "      <td>0.753345</td>\n",
       "      <td>0.229839</td>\n",
       "    </tr>\n",
       "  </tbody>\n",
       "</table>\n",
       "</div>"
      ],
      "text/plain": [
       "  Model  precision  accuracy\n",
       "0   GDA   0.518232  0.415323\n",
       "1   LOG   0.696049  0.475806\n",
       "2  Naiv   0.753345  0.229839"
      ]
     },
     "execution_count": 1376,
     "metadata": {},
     "output_type": "execute_result"
    }
   ],
   "source": [
    "preci_60=precision(Y_test3,predictionGDA3,predictLogist3,preditnv3)\n",
    "preci_60['accuracy']=[accG3,accL3,accn3]\n",
    "preci_60"
   ]
  },
  {
   "cell_type": "markdown",
   "metadata": {},
   "source": [
    "With 60% of the data,  logistic regression still has the best accuracy(0.47). But when we look at the precision, we realise that naive bayes has the best precision(0.75). We can also see that the accuracy of GDA is increasing.While the performance of naive bayes is decreasing."
   ]
  },
  {
   "cell_type": "markdown",
   "metadata": {},
   "source": [
    "# comparaison with 100% of the data set"
   ]
  },
  {
   "cell_type": "code",
   "execution_count": 1377,
   "metadata": {},
   "outputs": [],
   "source": [
    "size=int(0.8 * len(dataset4))\n",
    "X_train4= dataset4[:size, :]\n",
    "Y_train4= target4[:size]\n",
    "X_test4=dataset4[size:,:]\n",
    "Y_test4=target[size:]\n"
   ]
  },
  {
   "cell_type": "markdown",
   "metadata": {},
   "source": [
    "### Logistic"
   ]
  },
  {
   "cell_type": "code",
   "execution_count": 1378,
   "metadata": {},
   "outputs": [
    {
     "name": "stdout",
     "output_type": "stream",
     "text": [
      "accuracy ====== 0.4570737605804111\n"
     ]
    }
   ],
   "source": [
    "p=logistiSoft(X_train4,Y_train4,classes)\n",
    "p.fitfunction()\n",
    "predictLogist4,accL4=p.prediction(X_test4,Y_test4)"
   ]
  },
  {
   "cell_type": "markdown",
   "metadata": {},
   "source": [
    "### GDA"
   ]
  },
  {
   "cell_type": "code",
   "execution_count": 1379,
   "metadata": {},
   "outputs": [
    {
     "name": "stdout",
     "output_type": "stream",
     "text": [
      "Accuracy===== 0.437726723095526\n"
     ]
    }
   ],
   "source": [
    "p=MultiGDA()\n",
    "c,mu,pi,sigmacov=p.fit(X_train4,Y_train4,classes)\n",
    "sigmacovnew=sigmacov+(0.3*np.identity(sigmacov.shape[0]))\n",
    "predictGDA4,accG4=p.predictions(X_test4,Y_test4,classes, mu,pi, sigmacovnew)\n"
   ]
  },
  {
   "cell_type": "markdown",
   "metadata": {},
   "source": [
    "### Naive bayes"
   ]
  },
  {
   "cell_type": "code",
   "execution_count": 1380,
   "metadata": {},
   "outputs": [
    {
     "name": "stdout",
     "output_type": "stream",
     "text": [
      "Accuracy===== 0.22974607013301088\n"
     ]
    }
   ],
   "source": [
    "p=NaiveBayes(X_train4,Y_train4,classes)\n",
    "preditnv4,accn4=p.predic(X_test4,Y_test4)"
   ]
  },
  {
   "cell_type": "code",
   "execution_count": null,
   "metadata": {},
   "outputs": [],
   "source": []
  },
  {
   "cell_type": "code",
   "execution_count": 1381,
   "metadata": {},
   "outputs": [
    {
     "data": {
      "text/html": [
       "<div>\n",
       "<style scoped>\n",
       "    .dataframe tbody tr th:only-of-type {\n",
       "        vertical-align: middle;\n",
       "    }\n",
       "\n",
       "    .dataframe tbody tr th {\n",
       "        vertical-align: top;\n",
       "    }\n",
       "\n",
       "    .dataframe thead th {\n",
       "        text-align: right;\n",
       "    }\n",
       "</style>\n",
       "<table border=\"1\" class=\"dataframe\">\n",
       "  <thead>\n",
       "    <tr style=\"text-align: right;\">\n",
       "      <th></th>\n",
       "      <th>Model</th>\n",
       "      <th>precision</th>\n",
       "      <th>accuracy</th>\n",
       "    </tr>\n",
       "  </thead>\n",
       "  <tbody>\n",
       "    <tr>\n",
       "      <th>0</th>\n",
       "      <td>GDA</td>\n",
       "      <td>0.543849</td>\n",
       "      <td>0.437727</td>\n",
       "    </tr>\n",
       "    <tr>\n",
       "      <th>1</th>\n",
       "      <td>LOG</td>\n",
       "      <td>0.678056</td>\n",
       "      <td>0.457074</td>\n",
       "    </tr>\n",
       "    <tr>\n",
       "      <th>2</th>\n",
       "      <td>Naiv</td>\n",
       "      <td>0.715353</td>\n",
       "      <td>0.229746</td>\n",
       "    </tr>\n",
       "  </tbody>\n",
       "</table>\n",
       "</div>"
      ],
      "text/plain": [
       "  Model  precision  accuracy\n",
       "0   GDA   0.543849  0.437727\n",
       "1   LOG   0.678056  0.457074\n",
       "2  Naiv   0.715353  0.229746"
      ]
     },
     "execution_count": 1381,
     "metadata": {},
     "output_type": "execute_result"
    }
   ],
   "source": [
    "preci_100=precision(Y_test4,np.array(predictGDA4),predictLogist4,preditnv4)\n",
    "preci_100['accuracy']=[accG4,accL4,accn4]\n",
    "preci_100"
   ]
  },
  {
   "cell_type": "markdown",
   "metadata": {},
   "source": [
    "For 100% of the data set, the logistic regression still has the best accuracy(45%) while decreasing. At the same time the accuracy and precision of the Naive bayes continu decreasing but it still has the best precision compare to logistic and GDA."
   ]
  },
  {
   "cell_type": "markdown",
   "metadata": {},
   "source": [
    "## General conclusion"
   ]
  },
  {
   "cell_type": "code",
   "execution_count": 1382,
   "metadata": {},
   "outputs": [
    {
     "data": {
      "text/html": [
       "<div>\n",
       "<style scoped>\n",
       "    .dataframe tbody tr th:only-of-type {\n",
       "        vertical-align: middle;\n",
       "    }\n",
       "\n",
       "    .dataframe tbody tr th {\n",
       "        vertical-align: top;\n",
       "    }\n",
       "\n",
       "    .dataframe thead th {\n",
       "        text-align: right;\n",
       "    }\n",
       "</style>\n",
       "<table border=\"1\" class=\"dataframe\">\n",
       "  <thead>\n",
       "    <tr style=\"text-align: right;\">\n",
       "      <th></th>\n",
       "      <th>Model</th>\n",
       "      <th>precision</th>\n",
       "      <th>accuracy</th>\n",
       "      <th>size</th>\n",
       "    </tr>\n",
       "  </thead>\n",
       "  <tbody>\n",
       "    <tr>\n",
       "      <th>0</th>\n",
       "      <td>GDA</td>\n",
       "      <td>0.395748</td>\n",
       "      <td>0.325301</td>\n",
       "      <td>0.1</td>\n",
       "    </tr>\n",
       "    <tr>\n",
       "      <th>1</th>\n",
       "      <td>LOG</td>\n",
       "      <td>0.550445</td>\n",
       "      <td>0.397590</td>\n",
       "      <td>0.1</td>\n",
       "    </tr>\n",
       "    <tr>\n",
       "      <th>2</th>\n",
       "      <td>Naiv</td>\n",
       "      <td>0.741824</td>\n",
       "      <td>0.277108</td>\n",
       "      <td>0.1</td>\n",
       "    </tr>\n",
       "    <tr>\n",
       "      <th>0</th>\n",
       "      <td>GDA</td>\n",
       "      <td>0.487173</td>\n",
       "      <td>0.395161</td>\n",
       "      <td>0.3</td>\n",
       "    </tr>\n",
       "    <tr>\n",
       "      <th>1</th>\n",
       "      <td>LOG</td>\n",
       "      <td>0.666810</td>\n",
       "      <td>0.443548</td>\n",
       "      <td>0.3</td>\n",
       "    </tr>\n",
       "    <tr>\n",
       "      <th>2</th>\n",
       "      <td>Naiv</td>\n",
       "      <td>0.727706</td>\n",
       "      <td>0.250000</td>\n",
       "      <td>0.3</td>\n",
       "    </tr>\n",
       "    <tr>\n",
       "      <th>0</th>\n",
       "      <td>GDA</td>\n",
       "      <td>0.518232</td>\n",
       "      <td>0.415323</td>\n",
       "      <td>0.6</td>\n",
       "    </tr>\n",
       "    <tr>\n",
       "      <th>1</th>\n",
       "      <td>LOG</td>\n",
       "      <td>0.696049</td>\n",
       "      <td>0.475806</td>\n",
       "      <td>0.6</td>\n",
       "    </tr>\n",
       "    <tr>\n",
       "      <th>2</th>\n",
       "      <td>Naiv</td>\n",
       "      <td>0.753345</td>\n",
       "      <td>0.229839</td>\n",
       "      <td>0.6</td>\n",
       "    </tr>\n",
       "    <tr>\n",
       "      <th>0</th>\n",
       "      <td>GDA</td>\n",
       "      <td>0.543849</td>\n",
       "      <td>0.437727</td>\n",
       "      <td>1.0</td>\n",
       "    </tr>\n",
       "    <tr>\n",
       "      <th>1</th>\n",
       "      <td>LOG</td>\n",
       "      <td>0.678056</td>\n",
       "      <td>0.457074</td>\n",
       "      <td>1.0</td>\n",
       "    </tr>\n",
       "    <tr>\n",
       "      <th>2</th>\n",
       "      <td>Naiv</td>\n",
       "      <td>0.715353</td>\n",
       "      <td>0.229746</td>\n",
       "      <td>1.0</td>\n",
       "    </tr>\n",
       "  </tbody>\n",
       "</table>\n",
       "</div>"
      ],
      "text/plain": [
       "  Model  precision  accuracy  size\n",
       "0   GDA   0.395748  0.325301   0.1\n",
       "1   LOG   0.550445  0.397590   0.1\n",
       "2  Naiv   0.741824  0.277108   0.1\n",
       "0   GDA   0.487173  0.395161   0.3\n",
       "1   LOG   0.666810  0.443548   0.3\n",
       "2  Naiv   0.727706  0.250000   0.3\n",
       "0   GDA   0.518232  0.415323   0.6\n",
       "1   LOG   0.696049  0.475806   0.6\n",
       "2  Naiv   0.753345  0.229839   0.6\n",
       "0   GDA   0.543849  0.437727   1.0\n",
       "1   LOG   0.678056  0.457074   1.0\n",
       "2  Naiv   0.715353  0.229746   1.0"
      ]
     },
     "execution_count": 1382,
     "metadata": {},
     "output_type": "execute_result"
    }
   ],
   "source": [
    "precis=pd.concat([preci_10,preci_30,preci_60,preci_100])\n",
    "precis['size']=[0.1,0.1,0.1,0.3,0.3,0.3,0.6,0.6,0.6,1,1,1]\n",
    "precis\n"
   ]
  },
  {
   "cell_type": "code",
   "execution_count": 1383,
   "metadata": {
    "scrolled": false
   },
   "outputs": [
    {
     "data": {
      "image/png": "[encoded data removed]",
      "text/plain": [
       "<Figure size 720x288 with 2 Axes>"
      ]
     },
     "metadata": {
      "needs_background": "light"
     },
     "output_type": "display_data"
    }
   ],
   "source": [
    "f, axes = plt.subplots(1, 2,figsize=(10,4))\n",
    "sns.lineplot('size','precision',hue='Model', data=precis,ax=axes[0])\n",
    "axes[0].set_title('precision of the models')\n",
    "sns.lineplot('size','accuracy',hue='Model', data=precis,ax=axes[1])\n",
    "axes[1].set_title('accuracy of the models')\n",
    "\n",
    "\n",
    "plt.show()"
   ]
  },
  {
   "cell_type": "code",
   "execution_count": 1384,
   "metadata": {},
   "outputs": [
    {
     "data": {
      "image/png": "[encoded data removed]",
      "text/plain": [
       "<Figure size 720x288 with 2 Axes>"
      ]
     },
     "metadata": {
      "needs_background": "light"
     },
     "output_type": "display_data"
    }
   ],
   "source": [
    "f, axes = plt.subplots(1, 2,figsize=(10,4))\n",
    "sns.barplot('size','precision',hue='Model', data=precis,ax=axes[0])\n",
    "axes[0].set_title('precision of the models')\n",
    "\n",
    "sns.barplot('size','accuracy',hue='Model', data=precis,ax=axes[1])\n",
    "axes[1].set_title('precision of the models')\n",
    "\n",
    "plt.show()"
   ]
  },
  {
   "cell_type": "markdown",
   "metadata": {},
   "source": [
    "IN the graphs above, we visualize the precision and the accuracy according to the size of the data set. We oserve tha the performance of GDA increases between 0 to 30% of the data and it decrease a bit before it continue increasing. For the logistic regression, the performance increase and start decreasing when the size of the data is big. But for naive base, the accuracy and the precision decreases when the data increases.\n",
    "\n",
    "In general, if we look at the limites of our curves, we realize that when the data is to small,the naive bayes perform better than logistic and when the data is to big(goes to infinity), we observe that GDA perform better than logistic."
   ]
  },
  {
   "cell_type": "code",
   "execution_count": null,
   "metadata": {},
   "outputs": [],
   "source": []
  }
 ],
 "metadata": {
  "kernelspec": {
   "display_name": "Python 3",
   "language": "python",
   "name": "python3"
  },
  "language_info": {
   "codemirror_mode": {
    "name": "ipython",
    "version": 3
   },
   "file_extension": ".py",
   "mimetype": "text/x-python",
   "name": "python",
   "nbconvert_exporter": "python",
   "pygments_lexer": "ipython3",
   "version": "3.7.3"
  }
 },
 "nbformat": 4,
 "nbformat_minor": 2
}
